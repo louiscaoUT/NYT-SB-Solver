{
 "cells": [
  {
   "cell_type": "markdown",
   "metadata": {},
   "source": [
    "# NYT _Spelling Bee_ Solver\n",
    "\n",
    "The _New York Times_' _Spelling Bee_ game is a simple online game in which the goal is to construct the maximum number of words with a given set of letters (which is seven total in the original game), with the condition that there is a particular letter that must be used. The solution words can be any length greater than or equal 4. We implement a Python script that automatically generates the set of all possible words for the given _Spelling_Bee_ letters and required letter.\n",
    "\n",
    "On the implementation end, we thought we could improve upon our solution by a dynamic programming approach and memoizing subproblems. However, after implementing it, it actually took significantly more time for the solver to generate a solution! If there are any other potential improvements, we would like to hear them! We also acknowledge that we can add more descriptive comments and docstrings to improve the reading experience.\n",
    "\n",
    "We downloaded a dictionary detailing the possible words that were extracted from the NYT website, and then posted on GitHub by someone else. The only libraries used is the built-in `json` and `os` modules.\n",
    "\n",
    "As for test cases, we manually define them by inputting historical _Spelling_Bee_ problem\\_ and solutions. `NYT_unittests.py` automates this process.\n",
    "\n",
    "While the program is functional now, it is relatively slow (on the order of a few seconds in the upper limit). Our current implementation does not check for redundant subproblems, and that clearly has performance concerns.\n",
    "\n",
    "Please note that in this implementation, the required letter is typed with the entire family of letters, and then by itself. E.g., when asked to input the letters in the spelling bee, one would type `nchikmu` and then `n` on the next line.\n"
   ]
  },
  {
   "cell_type": "markdown",
   "metadata": {},
   "source": [
    "## Algorithmic Approach and High-Level Implementation\n",
    "\n",
    "- We decided to use a DFS (depth-first search) implementation to generate all possible permutations given the user's seven letters\n",
    "\n",
    "- The parameters of the DFS are what you would expect\n",
    "\n",
    "  - A list to hold the user-defined seven letters\n",
    "\n",
    "  - A Stack to hold the all the letters of our current permutation\n",
    "\n",
    "  - A dictionary to see if a permutation is a valid word\n",
    "\n",
    "  - A list of sets to hold all valid words\n",
    "\n",
    "- The DFS begins by turning all the letters in the current permutation into a string, that way we can verify whether the permutation is a valid word\n",
    "\n",
    "- If the current permutation is valid, the algorithm will add that permutation to the set responsible for permutations of the same size\n",
    "\n",
    "- If the current permutation is not valid, or valid, but we still have letters to add, we'll push a new letter onto the stack and continue the DFS\n",
    "\n",
    "- When the current permutation has no more letters to add, the stack will continue popping until it reaches an instance where letters can be added\n",
    "\n",
    "- For example, if our current letters = ['c', 'a', 't'], and our current path just finished adding \"cat\" as an answer, the stack will pop twice to return back to 'c'. That way, we can append t, instead of a. As such our new stack after back tracking and adding a new letter is ['c', 't']\n",
    "\n",
    "- This algorithm will continue until all possible permutations are created\n"
   ]
  },
  {
   "cell_type": "markdown",
   "metadata": {},
   "source": [
    "## Using the Solver\n",
    "\n",
    "`NYT_Spelling_Bee_Solver.py` contains all the functions necessary to generate the solutions to a particular _Spelling Bee_ problem. To generate the solutions in terms of Python data structures, one can use `find_answers`. This function takes a list of characters (e.g. [\"i\", \"n\", \"k\", \"b\", \"l\", \"o\", \"t\"]) as the first argument and a single character as the second argument. This will then return a list of sets corresponding to the sets of all solutions 4 letters through seven letters long, grouped in each set by length.\n",
    "\n",
    "Here is a rough guide to using the solver when running `NYT_Spelling_Bee_Solver.py` directly.\n",
    "\n",
    "1. The start of the program begins with a standard user input asking the letters to the game, followed by the required letter.\n",
    "\n",
    "2. After receiving the input, various functions will run to validate the input and reprompt if an error has occurred.\n",
    "\n",
    "3. If all inputs are correct, then the script will request which length of solutions to display, from lengths 4 through 7 or \"all\". \"exit\" can be used to exit and a blank return can be used to start with another word, going back to 1.\n"
   ]
  },
  {
   "cell_type": "code",
   "execution_count": 1,
   "metadata": {},
   "outputs": [],
   "source": [
    "from NYT_Spelling_Bee_Solver import find_answers"
   ]
  },
  {
   "cell_type": "code",
   "execution_count": 2,
   "metadata": {},
   "outputs": [
    {
     "name": "stdout",
     "output_type": "stream",
     "text": [
      "[{'oxen', 'noex', 'pnxt', 'expt', 'exon', 'oxer', 'exor', 'exrx', 'expo', 'prex', 'text', 'next', 'prox'}, {'xerox', 'exert', 'exxon', 'xenon', 'toxon', 'rexen', 'exter', 'oxter', 'exopt'}, {'toxone', 'expone', 'exoner', 'extent', 'export', 'prorex', 'extern', 'expert', 'extort', 'torpex', 'oxeote'}, {'externe', 'pretext', 'oxetone', 'protext'}]\n"
     ]
    }
   ],
   "source": [
    "print(find_answers([\"x\", \"n\", \"e\", \"r\", \"o\", \"p\", \"t\"], \"x\"))"
   ]
  },
  {
   "cell_type": "markdown",
   "metadata": {},
   "source": [
    "Here is a rough guide to using the solver when running `NYT_Spelling_Bee_Solver.py` directly.\n",
    "\n",
    "1. The start of the program begins with a standard user input asking the letters to the game, followed by the required letter.\n",
    "\n",
    "2. After receiving the input, various functions will run to validate the input and reprompt if an error has occurred.\n",
    "\n",
    "3. If all inputs are correct, then the script will request which length of solutions to display, from lengths 4 through 7 or \"all\". \"exit\" can be used to exit and a blank return can be used to start with another word, going back to 1.\n"
   ]
  },
  {
   "cell_type": "markdown",
   "metadata": {},
   "source": [
    "## Unit Tests\n"
   ]
  },
  {
   "cell_type": "markdown",
   "metadata": {},
   "source": [
    "Execute `NYT_unittests.py` directly to check the unit tests\n"
   ]
  },
  {
   "cell_type": "markdown",
   "metadata": {},
   "source": [
    "## Limitations\n",
    "\n",
    "1. The solver includes words that _The New York Times_ does not recognize, since our dictionary is much more expansive. However, the set of _actual_ correct answers are thus a subset of our generated answers.\n",
    "\n",
    "2. Our solver does not solve for words larger than length 7. While this matches the design of the original game, one could imagine an expended game with more letters.\n"
   ]
  }
 ],
 "metadata": {
  "kernelspec": {
   "display_name": "chi2",
   "language": "python",
   "name": "python3"
  },
  "language_info": {
   "codemirror_mode": {
    "name": "ipython",
    "version": 3
   },
   "file_extension": ".py",
   "mimetype": "text/x-python",
   "name": "python",
   "nbconvert_exporter": "python",
   "pygments_lexer": "ipython3",
   "version": "3.12.3"
  }
 },
 "nbformat": 4,
 "nbformat_minor": 2
}
